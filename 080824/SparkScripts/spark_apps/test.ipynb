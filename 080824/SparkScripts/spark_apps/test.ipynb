{
 "cells": [
  {
   "cell_type": "code",
   "execution_count": 1,
   "metadata": {},
   "outputs": [],
   "source": [
    "import pandas as pd\n",
    "import numpy as np"
   ]
  },
  {
   "cell_type": "code",
   "execution_count": 7,
   "metadata": {},
   "outputs": [
    {
     "data": {
      "text/html": [
       "<div>\n",
       "<style scoped>\n",
       "    .dataframe tbody tr th:only-of-type {\n",
       "        vertical-align: middle;\n",
       "    }\n",
       "\n",
       "    .dataframe tbody tr th {\n",
       "        vertical-align: top;\n",
       "    }\n",
       "\n",
       "    .dataframe thead th {\n",
       "        text-align: right;\n",
       "    }\n",
       "</style>\n",
       "<table border=\"1\" class=\"dataframe\">\n",
       "  <thead>\n",
       "    <tr style=\"text-align: right;\">\n",
       "      <th></th>\n",
       "      <th>Execution Time (s)</th>\n",
       "      <th>Number of Workers</th>\n",
       "      <th>Number of Partitions</th>\n",
       "      <th>Executor Cores</th>\n",
       "      <th>Executor Memory</th>\n",
       "    </tr>\n",
       "  </thead>\n",
       "  <tbody>\n",
       "    <tr>\n",
       "      <th>0</th>\n",
       "      <td>85.880804</td>\n",
       "      <td>9</td>\n",
       "      <td>6</td>\n",
       "      <td>2.0</td>\n",
       "      <td>2g</td>\n",
       "    </tr>\n",
       "    <tr>\n",
       "      <th>1</th>\n",
       "      <td>84.570333</td>\n",
       "      <td>9</td>\n",
       "      <td>6</td>\n",
       "      <td>2.0</td>\n",
       "      <td>2g</td>\n",
       "    </tr>\n",
       "    <tr>\n",
       "      <th>2</th>\n",
       "      <td>83.843304</td>\n",
       "      <td>9</td>\n",
       "      <td>6</td>\n",
       "      <td>2.0</td>\n",
       "      <td>2g</td>\n",
       "    </tr>\n",
       "    <tr>\n",
       "      <th>3</th>\n",
       "      <td>84.423113</td>\n",
       "      <td>9</td>\n",
       "      <td>6</td>\n",
       "      <td>2.0</td>\n",
       "      <td>2g</td>\n",
       "    </tr>\n",
       "    <tr>\n",
       "      <th>4</th>\n",
       "      <td>81.579025</td>\n",
       "      <td>9</td>\n",
       "      <td>6</td>\n",
       "      <td>2.0</td>\n",
       "      <td>2g</td>\n",
       "    </tr>\n",
       "    <tr>\n",
       "      <th>5</th>\n",
       "      <td>85.293790</td>\n",
       "      <td>9</td>\n",
       "      <td>6</td>\n",
       "      <td>2.0</td>\n",
       "      <td>2g</td>\n",
       "    </tr>\n",
       "    <tr>\n",
       "      <th>6</th>\n",
       "      <td>76.162824</td>\n",
       "      <td>3</td>\n",
       "      <td>6</td>\n",
       "      <td>NaN</td>\n",
       "      <td>NaN</td>\n",
       "    </tr>\n",
       "    <tr>\n",
       "      <th>7</th>\n",
       "      <td>94.667048</td>\n",
       "      <td>18</td>\n",
       "      <td>6</td>\n",
       "      <td>2.0</td>\n",
       "      <td>NaN</td>\n",
       "    </tr>\n",
       "  </tbody>\n",
       "</table>\n",
       "</div>"
      ],
      "text/plain": [
       "   Execution Time (s)  Number of Workers  Number of Partitions  \\\n",
       "0           85.880804                  9                     6   \n",
       "1           84.570333                  9                     6   \n",
       "2           83.843304                  9                     6   \n",
       "3           84.423113                  9                     6   \n",
       "4           81.579025                  9                     6   \n",
       "5           85.293790                  9                     6   \n",
       "6           76.162824                  3                     6   \n",
       "7           94.667048                 18                     6   \n",
       "\n",
       "   Executor Cores Executor Memory  \n",
       "0             2.0              2g  \n",
       "1             2.0              2g  \n",
       "2             2.0              2g  \n",
       "3             2.0              2g  \n",
       "4             2.0              2g  \n",
       "5             2.0              2g  \n",
       "6             NaN             NaN  \n",
       "7             2.0             NaN  "
      ]
     },
     "execution_count": 7,
     "metadata": {},
     "output_type": "execute_result"
    }
   ],
   "source": [
    "df = pd.read_csv(r'F:\\FPT\\DE_assignments\\080824\\SparkScripts\\input\\results\\execution_statistics.csv')\n",
    "df"
   ]
  },
  {
   "cell_type": "code",
   "execution_count": 4,
   "metadata": {},
   "outputs": [
    {
     "data": {
      "text/html": [
       "<div>\n",
       "<style scoped>\n",
       "    .dataframe tbody tr th:only-of-type {\n",
       "        vertical-align: middle;\n",
       "    }\n",
       "\n",
       "    .dataframe tbody tr th {\n",
       "        vertical-align: top;\n",
       "    }\n",
       "\n",
       "    .dataframe thead th {\n",
       "        text-align: right;\n",
       "    }\n",
       "</style>\n",
       "<table border=\"1\" class=\"dataframe\">\n",
       "  <thead>\n",
       "    <tr style=\"text-align: right;\">\n",
       "      <th></th>\n",
       "      <th>Execution Time (s)</th>\n",
       "      <th>Number of Workers</th>\n",
       "      <th>Number of Partitions</th>\n",
       "      <th>Executor Cores</th>\n",
       "      <th>Executor Memory</th>\n",
       "    </tr>\n",
       "  </thead>\n",
       "  <tbody>\n",
       "    <tr>\n",
       "      <th>0</th>\n",
       "      <td>85.880804</td>\n",
       "      <td>9</td>\n",
       "      <td>6</td>\n",
       "      <td>2</td>\n",
       "      <td>2g</td>\n",
       "    </tr>\n",
       "  </tbody>\n",
       "</table>\n",
       "</div>"
      ],
      "text/plain": [
       "   Execution Time (s)  Number of Workers  Number of Partitions  \\\n",
       "0           85.880804                  9                     6   \n",
       "\n",
       "   Executor Cores Executor Memory  \n",
       "0               2              2g  "
      ]
     },
     "execution_count": 4,
     "metadata": {},
     "output_type": "execute_result"
    }
   ],
   "source": [
    "df"
   ]
  },
  {
   "cell_type": "code",
   "execution_count": null,
   "metadata": {},
   "outputs": [],
   "source": []
  }
 ],
 "metadata": {
  "kernelspec": {
   "display_name": "Python 3",
   "language": "python",
   "name": "python3"
  },
  "language_info": {
   "codemirror_mode": {
    "name": "ipython",
    "version": 3
   },
   "file_extension": ".py",
   "mimetype": "text/x-python",
   "name": "python",
   "nbconvert_exporter": "python",
   "pygments_lexer": "ipython3",
   "version": "3.10.9"
  }
 },
 "nbformat": 4,
 "nbformat_minor": 2
}
