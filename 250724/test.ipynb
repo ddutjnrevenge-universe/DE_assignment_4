{
 "cells": [
  {
   "cell_type": "code",
   "execution_count": 5,
   "metadata": {},
   "outputs": [],
   "source": [
    "import findspark\n",
    "findspark.init()"
   ]
  },
  {
   "cell_type": "code",
   "execution_count": 6,
   "metadata": {},
   "outputs": [],
   "source": [
    "import time"
   ]
  },
  {
   "cell_type": "code",
   "execution_count": 7,
   "metadata": {},
   "outputs": [
    {
     "name": "stdout",
     "output_type": "stream",
     "text": [
      "Word count done!\n",
      "Elapsed time: 0.19713258743286133 seconds\n"
     ]
    }
   ],
   "source": [
    "import re\n",
    "\n",
    "# Define a function to clean the words\n",
    "def clean_word(word):\n",
    "    # Remove links starting with http, https, or www\n",
    "    if word.startswith(('http', 'https', 'www')):\n",
    "        return ''\n",
    "    # Remove numbers and special characters\n",
    "    return re.sub(r'[^a-zA-Z]', '', word)\n",
    "\n",
    "start_time = time.time()\n",
    "\n",
    "# Read existing file in local and count occurrences of each word in the file\n",
    "try:\n",
    "    with open(\"C:/Users/hanhn/Downloads/619251.txt\", \"r\", encoding=\"utf-8\") as file:\n",
    "        lines = file.readlines()\n",
    "    \n",
    "    word_count = {}\n",
    "    for line in lines:\n",
    "        words = line.split()\n",
    "        for word in words:\n",
    "            cleaned_word = clean_word(word).lower()  # Clean and convert to lowercase\n",
    "            if cleaned_word:  # Check if the cleaned word is not empty\n",
    "                if cleaned_word in word_count:\n",
    "                    word_count[cleaned_word] += 1\n",
    "                else:\n",
    "                    word_count[cleaned_word] = 1\n",
    "\n",
    "    with open(\"output/wordCounts.txt\", \"w\", encoding=\"utf-8\") as output:\n",
    "        for word in word_count:\n",
    "            output.write(word + \" \" + str(word_count[word]) + \"\\n\")\n",
    "\n",
    "    print(\"Word count done!\")\n",
    "except UnicodeDecodeError as e:\n",
    "    print(f\"Error reading file: {e}\")\n",
    "except Exception as e:\n",
    "    print(f\"An error occurred: {e}\")\n",
    "\n",
    "# End timing\n",
    "end_time = time.time()\n",
    "elapsed_time = end_time - start_time\n",
    "\n",
    "print(f\"Elapsed time: {elapsed_time} seconds\")\n"
   ]
  },
  {
   "cell_type": "code",
   "execution_count": 8,
   "metadata": {},
   "outputs": [
    {
     "name": "stdout",
     "output_type": "stream",
     "text": [
      "GroupByKey elapsed time: 3.3725528717041016 seconds\n"
     ]
    }
   ],
   "source": [
    "from pyspark import SparkContext, SparkConf\n",
    "import time\n",
    "import re\n",
    "\n",
    "# Set up Spark context\n",
    "conf = SparkConf().setAppName(\"GroupByKeyBenchmark\").setMaster(\"local\")\n",
    "sc = SparkContext(conf=conf)\n",
    "\n",
    "# Read the file\n",
    "file_path = \"C:/Users/hanhn/Downloads/619251.txt\"\n",
    "text_file = sc.textFile(file_path)\n",
    "\n",
    "# Define a function to filter out unwanted words\n",
    "def is_valid_word(word):\n",
    "    # Regular expression to filter out numbers, special characters, and URLs\n",
    "    return not re.match(r'^[0-9]|[^\\w\\s]|http|www', word)\n",
    "\n",
    "# Start timing\n",
    "start_time = time.time()\n",
    "\n",
    "# Count the words using groupByKey with filtering\n",
    "word_pairs = text_file.flatMap(lambda line: line.split()) \\\n",
    "                      .filter(is_valid_word) \\\n",
    "                      .map(lambda word: (word, 1))\n",
    "grouped_words = word_pairs.groupByKey()\n",
    "word_counts = grouped_words.map(lambda kv: (kv[0], sum(kv[1])))\n",
    "\n",
    "# Collect the result to trigger the computation\n",
    "word_counts.collect()\n",
    "\n",
    "\n",
    "\n",
    "# Save the result\n",
    "output_path = \"output/groupByKey\"\n",
    "word_counts.saveAsTextFile(output_path)\n",
    "\n",
    "# End timing\n",
    "end_time = time.time()\n",
    "elapsed_time = end_time - start_time\n",
    "\n",
    "# Stop the Spark context\n",
    "sc.stop()\n",
    "\n",
    "print(f\"GroupByKey elapsed time: {elapsed_time} seconds\")\n"
   ]
  },
  {
   "cell_type": "code",
   "execution_count": 9,
   "metadata": {},
   "outputs": [
    {
     "name": "stdout",
     "output_type": "stream",
     "text": [
      "ReduceByKey elapsed time: 2.458261251449585 seconds\n"
     ]
    }
   ],
   "source": [
    "from pyspark import SparkContext, SparkConf\n",
    "import time\n",
    "import re\n",
    "\n",
    "# Set up Spark context\n",
    "conf = SparkConf().setAppName(\"ReduceByKeyBenchmark\").setMaster(\"local\")\n",
    "sc = SparkContext(conf=conf)\n",
    "\n",
    "# Read the file\n",
    "file_path = \"C:/Users/hanhn/Downloads/619251.txt\"\n",
    "text_file = sc.textFile(file_path)\n",
    "\n",
    "# Define a function to filter out unwanted words\n",
    "def is_valid_word(word):\n",
    "    # Regular expression to filter out numbers, special characters, and URLs\n",
    "    return not re.match(r'^[0-9]|[^\\w\\s]|http|www', word)\n",
    "\n",
    "# Start timing\n",
    "start_time = time.time()\n",
    "\n",
    "# Count the words using reduceByKey with filtering\n",
    "word_pairs = text_file.flatMap(lambda line: line.split()) \\\n",
    "                      .filter(is_valid_word) \\\n",
    "                      .map(lambda word: (word, 1))\n",
    "word_counts = word_pairs.reduceByKey(lambda a, b: a + b)\n",
    "\n",
    "# Collect the result to trigger the computation\n",
    "word_counts.collect()\n",
    "\n",
    "# Save the result\n",
    "output_path = \"output/reduceByKey\"\n",
    "word_counts.saveAsTextFile(output_path)\n",
    "\n",
    "# End timing\n",
    "end_time = time.time()\n",
    "elapsed_time = end_time - start_time\n",
    "\n",
    "# Stop the Spark context\n",
    "sc.stop()\n",
    "\n",
    "print(f\"ReduceByKey elapsed time: {elapsed_time} seconds\")\n"
   ]
  }
 ],
 "metadata": {
  "kernelspec": {
   "display_name": "Python 3",
   "language": "python",
   "name": "python3"
  },
  "language_info": {
   "codemirror_mode": {
    "name": "ipython",
    "version": 3
   },
   "file_extension": ".py",
   "mimetype": "text/x-python",
   "name": "python",
   "nbconvert_exporter": "python",
   "pygments_lexer": "ipython3",
   "version": "3.9.0"
  }
 },
 "nbformat": 4,
 "nbformat_minor": 2
}
