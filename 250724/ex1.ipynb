{
 "cells": [
  {
   "cell_type": "markdown",
   "metadata": {},
   "source": [
    "## Exercise 1\n",
    "### - Given a text file of 10,000 lines, each line contains a pair of (key,value)\n",
    "### - Calculate the average value for each key\n",
    "### - Apply groupByKey() and reuceByKey() functions\n",
    "Compare?"
   ]
  },
  {
   "cell_type": "code",
   "execution_count": null,
   "metadata": {},
   "outputs": [],
   "source": []
  }
 ],
 "metadata": {
  "language_info": {
   "name": "python"
  }
 },
 "nbformat": 4,
 "nbformat_minor": 2
}
