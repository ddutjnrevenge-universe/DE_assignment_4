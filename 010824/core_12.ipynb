{
 "cells": [
  {
   "cell_type": "code",
   "execution_count": 1,
   "metadata": {},
   "outputs": [],
   "source": [
    "import findspark\n",
    "findspark.init()\n",
    "\n",
    "from pyspark.sql import SparkSession\n",
    "import time\n",
    "from pyspark import SparkContext\n"
   ]
  },
  {
   "cell_type": "code",
   "execution_count": 2,
   "metadata": {},
   "outputs": [],
   "source": [
    "# # Initialize SparkSession\n",
    "spark = SparkSession.builder.appName(\"Join and Filter local[*]\").getOrCreate()\n",
    "sc = spark.sparkContext"
   ]
  },
  {
   "cell_type": "code",
   "execution_count": 3,
   "metadata": {},
   "outputs": [
    {
     "data": {
      "text/html": [
       "\n",
       "            <div>\n",
       "                <p><b>SparkSession - in-memory</b></p>\n",
       "                \n",
       "        <div>\n",
       "            <p><b>SparkContext</b></p>\n",
       "\n",
       "            <p><a href=\"http://Min:4043\">Spark UI</a></p>\n",
       "\n",
       "            <dl>\n",
       "              <dt>Version</dt>\n",
       "                <dd><code>v3.5.1</code></dd>\n",
       "              <dt>Master</dt>\n",
       "                <dd><code>local[*]</code></dd>\n",
       "              <dt>AppName</dt>\n",
       "                <dd><code>Join and Filter local[*]</code></dd>\n",
       "            </dl>\n",
       "        </div>\n",
       "        \n",
       "            </div>\n",
       "        "
      ],
      "text/plain": [
       "<pyspark.sql.session.SparkSession at 0x29367dcdd80>"
      ]
     },
     "execution_count": 3,
     "metadata": {},
     "output_type": "execute_result"
    }
   ],
   "source": [
    "spark"
   ]
  },
  {
   "cell_type": "code",
   "execution_count": 4,
   "metadata": {},
   "outputs": [],
   "source": [
    "# Define the RDDs\n",
    "RDD_A = sc.parallelize([(1, -1), (2, 20), (3, 3), (4, 0), (5, -12)])\n",
    "RDD_B = sc.parallelize([(1, 31), (2, 3), (3, 0), (4, -2), (5, 17)])\n",
    "\n",
    "# Convert RDDs to key-value pairs\n",
    "RDD_A = RDD_A.map(lambda x: (x[0], x[1]))\n",
    "RDD_B = RDD_B.map(lambda x: (x[0], x[1]))\n"
   ]
  },
  {
   "cell_type": "code",
   "execution_count": 5,
   "metadata": {},
   "outputs": [
    {
     "name": "stdout",
     "output_type": "stream",
     "text": [
      "Approach 1 result: [(1, (-1, 31)), (5, (-12, 17))]\n",
      "Approach 1 time: 47.278804063797\n"
     ]
    }
   ],
   "source": [
    "# Approach 1: Join then Filter\n",
    "start_time = time.time()\n",
    "\n",
    "# Join the RDDs\n",
    "joined_RDD = RDD_A.join(RDD_B)\n",
    "\n",
    "# Filter the joined RDD\n",
    "result_RDD_1 = joined_RDD.filter(lambda x: x[1][0] <= 0 and x[1][1] > 5)\n",
    "\n",
    "# Collect and print the result\n",
    "result_1 = result_RDD_1.collect()\n",
    "end_time = time.time()\n",
    "approach_1_time = end_time - start_time\n",
    "print(\"Approach 1 result:\", result_1)\n",
    "print(\"Approach 1 time:\", approach_1_time)"
   ]
  },
  {
   "cell_type": "code",
   "execution_count": 6,
   "metadata": {},
   "outputs": [
    {
     "name": "stdout",
     "output_type": "stream",
     "text": [
      "Approach 2 result: [(1, (-1, 31)), (5, (-12, 17))]\n",
      "Approach 2 time: 47.95694589614868\n"
     ]
    }
   ],
   "source": [
    "# Approach 2: Filter then Join\n",
    "start_time = time.time()\n",
    "\n",
    "# Filter RDD_A\n",
    "filtered_RDD_A = RDD_A.filter(lambda x: x[1] <= 0)\n",
    "\n",
    "# Filter RDD_B\n",
    "filtered_RDD_B = RDD_B.filter(lambda x: x[1] > 5)\n",
    "\n",
    "# Join the filtered RDDs\n",
    "result_RDD_2 = filtered_RDD_A.join(filtered_RDD_B)\n",
    "\n",
    "# Collect and print the result\n",
    "result_2 = result_RDD_2.collect()\n",
    "end_time = time.time()\n",
    "approach_2_time = end_time - start_time\n",
    "print(\"Approach 2 result:\", result_2)\n",
    "print(\"Approach 2 time:\", approach_2_time)"
   ]
  },
  {
   "cell_type": "code",
   "execution_count": 7,
   "metadata": {},
   "outputs": [
    {
     "name": "stdout",
     "output_type": "stream",
     "text": [
      "\n",
      "Performance Comparison:\n",
      "Approach 1 time: 47.2788 seconds\n",
      "Approach 2 time: 47.9569 seconds\n",
      "Approach 1 is faster.\n"
     ]
    }
   ],
   "source": [
    "import csv\n",
    "# Get the current timestamp for logging\n",
    "timestamp = time.strftime('%Y-%m-%d %H:%M:%S')\n",
    "job_label = \"Small pair size - 12 cores\"\n",
    "# Append the results to a CSV file\n",
    "with open('performance_comparison.csv', mode='a', newline='') as file:\n",
    "    writer = csv.writer(file)\n",
    "    writer.writerow([timestamp, approach_1_time, approach_2_time, job_label])\n",
    "\n",
    "# Print comparison\n",
    "print(\"\\nPerformance Comparison:\")\n",
    "print(f\"Approach 1 time: {approach_1_time:.4f} seconds\")\n",
    "print(f\"Approach 2 time: {approach_2_time:.4f} seconds\")\n",
    "if approach_1_time < approach_2_time:\n",
    "    print(\"Approach 1 is faster.\")\n",
    "else:\n",
    "    print(\"Approach 2 is faster.\")"
   ]
  }
 ],
 "metadata": {
  "kernelspec": {
   "display_name": "Python 3",
   "language": "python",
   "name": "python3"
  },
  "language_info": {
   "codemirror_mode": {
    "name": "ipython",
    "version": 3
   },
   "file_extension": ".py",
   "mimetype": "text/x-python",
   "name": "python",
   "nbconvert_exporter": "python",
   "pygments_lexer": "ipython3",
   "version": "3.10.9"
  }
 },
 "nbformat": 4,
 "nbformat_minor": 2
}
