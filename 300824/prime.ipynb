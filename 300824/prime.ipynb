{
 "cells": [
  {
   "cell_type": "code",
   "execution_count": 0,
   "metadata": {
    "application/vnd.databricks.v1+cell": {
     "cellMetadata": {
      "byteLimit": 2048000,
      "rowLimit": 10000
     },
     "inputWidgets": {},
     "nuid": "2b97eae9-23a5-4d73-8862-67e71eef56cc",
     "showTitle": false,
     "title": ""
    }
   },
   "outputs": [
    {
     "output_type": "display_data",
     "data": {
      "text/html": [
       "<style scoped>\n",
       "  .table-result-container {\n",
       "    max-height: 300px;\n",
       "    overflow: auto;\n",
       "  }\n",
       "  table, th, td {\n",
       "    border: 1px solid black;\n",
       "    border-collapse: collapse;\n",
       "  }\n",
       "  th, td {\n",
       "    padding: 5px;\n",
       "  }\n",
       "  th {\n",
       "    text-align: left;\n",
       "  }\n",
       "</style><div class='table-result-container'><table class='table-result'><thead style='background-color: white'><tr><th>path</th><th>name</th><th>size</th><th>modificationTime</th></tr></thead><tbody><tr><td>dbfs:/mnt/raw/prime/numbers.txt</td><td>numbers.txt</td><td>98887347</td><td>1725416668000</td></tr></tbody></table></div>"
      ]
     },
     "metadata": {
      "application/vnd.databricks.v1+output": {
       "addedWidgets": {},
       "aggData": [],
       "aggError": "",
       "aggOverflow": false,
       "aggSchema": [],
       "aggSeriesLimitReached": false,
       "aggType": "",
       "arguments": {},
       "columnCustomDisplayInfos": {},
       "data": [
        [
         "dbfs:/mnt/raw/prime/numbers.txt",
         "numbers.txt",
         98887347,
         1725416668000
        ]
       ],
       "datasetInfos": [],
       "dbfsResultPath": null,
       "isJsonSchema": true,
       "metadata": {},
       "overflow": false,
       "plotOptions": {
        "customPlotOptions": {},
        "displayType": "table",
        "pivotAggregation": null,
        "pivotColumns": null,
        "xColumns": null,
        "yColumns": null
       },
       "removedWidgets": [],
       "schema": [
        {
         "metadata": "{}",
         "name": "path",
         "type": "\"string\""
        },
        {
         "metadata": "{}",
         "name": "name",
         "type": "\"string\""
        },
        {
         "metadata": "{}",
         "name": "size",
         "type": "\"long\""
        },
        {
         "metadata": "{}",
         "name": "modificationTime",
         "type": "\"long\""
        }
       ],
       "type": "table"
      }
     },
     "output_type": "display_data"
    }
   ],
   "source": [
    "display(dbutils.fs.ls(\"/mnt/raw/prime\"))"
   ]
  },
  {
   "cell_type": "code",
   "execution_count": 0,
   "metadata": {
    "application/vnd.databricks.v1+cell": {
     "cellMetadata": {
      "byteLimit": 2048000,
      "rowLimit": 10000
     },
     "inputWidgets": {},
     "nuid": "e0487104-7c94-40d7-86e8-53dcb5856aba",
     "showTitle": false,
     "title": ""
    }
   },
   "outputs": [
    {
     "output_type": "stream",
     "name": "stdout",
     "output_type": "stream",
     "text": [
      "Execution time with 1 partitions: 390.69496512413025 seconds\nExecutor count (excluding driver): 4\nExecution time with 2 partitions: 199.13701462745667 seconds\nExecutor count (excluding driver): 4\nExecution time with 3 partitions: 145.03214716911316 seconds\nExecutor count (excluding driver): 4\nExecution time with 4 partitions: 109.34245729446411 seconds\nExecutor count (excluding driver): 4\nExecution time with 5 partitions: 87.93135571479797 seconds\nExecutor count (excluding driver): 4\nExecution time with 6 partitions: 77.08361506462097 seconds\nExecutor count (excluding driver): 4\nExecution time with 7 partitions: 65.94456267356873 seconds\nExecutor count (excluding driver): 4\nExecution time with 8 partitions: 59.83191180229187 seconds\nExecutor count (excluding driver): 4\nExecution time with 9 partitions: 54.11611032485962 seconds\nExecutor count (excluding driver): 4\nExecution time with 10 partitions: 49.82814574241638 seconds\nExecutor count (excluding driver): 4\nExecution time with 11 partitions: 47.271732330322266 seconds\nExecutor count (excluding driver): 4\nExecution time with 12 partitions: 44.64640021324158 seconds\nExecutor count (excluding driver): 4\nExecution time with 13 partitions: 44.923481702804565 seconds\nExecutor count (excluding driver): 4\nExecution time with 14 partitions: 41.59566402435303 seconds\nExecutor count (excluding driver): 4\nExecution time with 15 partitions: 39.11468267440796 seconds\nExecutor count (excluding driver): 4\nExecution time with 16 partitions: 37.118042945861816 seconds\nExecutor count (excluding driver): 4\nExecution time with 17 partitions: 53.998842000961304 seconds\nExecutor count (excluding driver): 4\nExecution time with 18 partitions: 52.4465069770813 seconds\nExecutor count (excluding driver): 4\nExecution time with 19 partitions: 49.527193546295166 seconds\nExecutor count (excluding driver): 4\nExecution time with 20 partitions: 48.20212697982788 seconds\nExecutor count (excluding driver): 4\nExecution time with 21 partitions: 48.003539085388184 seconds\nExecutor count (excluding driver): 4\nExecution time with 22 partitions: 45.28066444396973 seconds\nExecutor count (excluding driver): 4\nExecution time with 23 partitions: 43.87223529815674 seconds\nExecutor count (excluding driver): 4\nExecution time with 24 partitions: 42.8228440284729 seconds\nExecutor count (excluding driver): 4\nExecution time with 25 partitions: 40.98221182823181 seconds\nExecutor count (excluding driver): 4\nExecution time with 26 partitions: 40.103885889053345 seconds\nExecutor count (excluding driver): 4\nExecution time with 27 partitions: 39.73104476928711 seconds\nExecutor count (excluding driver): 4\nExecution time with 28 partitions: 38.92098569869995 seconds\nExecutor count (excluding driver): 4\nExecution time with 29 partitions: 38.42990517616272 seconds\nExecutor count (excluding driver): 4\nExecution time with 30 partitions: 37.21878433227539 seconds\nExecutor count (excluding driver): 4\nExecution time with 31 partitions: 37.3969829082489 seconds\nExecutor count (excluding driver): 4\nExecution time with 32 partitions: 37.03611159324646 seconds\nExecutor count (excluding driver): 4\nExecution time with 33 partitions: 44.48003077507019 seconds\nExecutor count (excluding driver): 4\nExecution time with 34 partitions: 43.48323607444763 seconds\nExecutor count (excluding driver): 4\nExecution time with 35 partitions: 42.2628915309906 seconds\nExecutor count (excluding driver): 4\nExecution time with 36 partitions: 42.19146513938904 seconds\nExecutor count (excluding driver): 4\nExecution time with 37 partitions: 41.195733070373535 seconds\nExecutor count (excluding driver): 4\nExecution time with 38 partitions: 40.39803123474121 seconds\nExecutor count (excluding driver): 4\nExecution time with 39 partitions: 40.35368204116821 seconds\nExecutor count (excluding driver): 4\nExecution time with 40 partitions: 39.56195282936096 seconds\nExecutor count (excluding driver): 4\nExecution time with 41 partitions: 39.68570399284363 seconds\nExecutor count (excluding driver): 4\nExecution time with 42 partitions: 38.81918406486511 seconds\nExecutor count (excluding driver): 4\nExecution time with 43 partitions: 38.36151576042175 seconds\nExecutor count (excluding driver): 4\nExecution time with 44 partitions: 37.7308669090271 seconds\nExecutor count (excluding driver): 4\nExecution time with 45 partitions: 37.795198917388916 seconds\nExecutor count (excluding driver): 4\nExecution time with 46 partitions: 36.56277680397034 seconds\nExecutor count (excluding driver): 4\nExecution time with 47 partitions: 36.987032890319824 seconds\nExecutor count (excluding driver): 4\nExecution time with 48 partitions: 37.53926467895508 seconds\nExecutor count (excluding driver): 4\nExecution time with 49 partitions: 40.55146598815918 seconds\nExecutor count (excluding driver): 4\nExecution time with 50 partitions: 40.66723299026489 seconds\nExecutor count (excluding driver): 4\nExecution time with 51 partitions: 40.20414996147156 seconds\nExecutor count (excluding driver): 4\nExecution time with 52 partitions: 39.83216619491577 seconds\nExecutor count (excluding driver): 4\nExecution time with 53 partitions: 40.498133182525635 seconds\nExecutor count (excluding driver): 4\nExecution time with 54 partitions: 40.11202955245972 seconds\nExecutor count (excluding driver): 4\nExecution time with 55 partitions: 39.064757347106934 seconds\nExecutor count (excluding driver): 4\nExecution time with 56 partitions: 38.84029173851013 seconds\nExecutor count (excluding driver): 4\nExecution time with 57 partitions: 38.84240221977234 seconds\nExecutor count (excluding driver): 4\nExecution time with 58 partitions: 38.1392388343811 seconds\nExecutor count (excluding driver): 4\nExecution time with 59 partitions: 38.17423152923584 seconds\nExecutor count (excluding driver): 4\nExecution time with 60 partitions: 37.76139807701111 seconds\nExecutor count (excluding driver): 4\nExecution time with 61 partitions: 37.56046795845032 seconds\nExecutor count (excluding driver): 4\nExecution time with 62 partitions: 37.28426218032837 seconds\nExecutor count (excluding driver): 4\nExecution time with 63 partitions: 37.50496864318848 seconds\nExecutor count (excluding driver): 4\nExecution time with 64 partitions: 37.49702787399292 seconds\nExecutor count (excluding driver): 4\nExecution time with 65 partitions: 40.11548852920532 seconds\nExecutor count (excluding driver): 4\nExecution time with 66 partitions: 40.04637336730957 seconds\nExecutor count (excluding driver): 4\nExecution time with 67 partitions: 39.509363412857056 seconds\nExecutor count (excluding driver): 4\nExecution time with 68 partitions: 39.55205035209656 seconds\nExecutor count (excluding driver): 4\nExecution time with 69 partitions: 39.88324594497681 seconds\nExecutor count (excluding driver): 4\nExecution time with 70 partitions: 38.53577542304993 seconds\nExecutor count (excluding driver): 4\nExecution time with 71 partitions: 38.457478761672974 seconds\nExecutor count (excluding driver): 4\nExecution time with 72 partitions: 38.38430666923523 seconds\nExecutor count (excluding driver): 4\nExecution time with 73 partitions: 37.98841190338135 seconds\nExecutor count (excluding driver): 4\nExecution time with 74 partitions: 37.60175442695618 seconds\nExecutor count (excluding driver): 4\nExecution time with 75 partitions: 37.32806324958801 seconds\nExecutor count (excluding driver): 4\nExecution time with 76 partitions: 37.10346269607544 seconds\nExecutor count (excluding driver): 4\nExecution time with 77 partitions: 37.17163109779358 seconds\nExecutor count (excluding driver): 4\nExecution time with 78 partitions: 36.711740255355835 seconds\nExecutor count (excluding driver): 4\nExecution time with 79 partitions: 36.78786253929138 seconds\nExecutor count (excluding driver): 4\nExecution time with 80 partitions: 36.87158274650574 seconds\nExecutor count (excluding driver): 4\nStatistics saved to dbfs:/mnt/exectime/prime/execution_prime.csv\n"
     ]
    }
   ],
   "source": [
    "from pyspark.sql import SparkSession\n",
    "import time\n",
    "\n",
    "# Use the existing SparkSession\n",
    "spark = SparkSession.builder.appName(\"DatabricksPrimeTest\").getOrCreate()\n",
    "sc = spark.sparkContext\n",
    "\n",
    "n_workers = 4  # Number of workers (adjust according to your Databricks cluster configuration)\n",
    "partition_multiples = range(1, 81, 1)  # Range of partition multiples (1 to 80)\n",
    "\n",
    "from math import sqrt, ceil\n",
    "\n",
    "def is_prime(n):\n",
    "    if n <= 1:\n",
    "        return False\n",
    "    for i in range(2, ceil(sqrt(n)) + 1):\n",
    "        if n % i == 0:\n",
    "            return False\n",
    "    return True\n",
    "\n",
    "# Path to the numbers file and output path in DBFS\n",
    "numbers_file = \"dbfs:/mnt/raw/prime/numbers.txt\"\n",
    "csv_file_path = \"dbfs:/mnt/exectime/prime/execution_prime.csv\"\n",
    "\n",
    "# Create a list to store the results\n",
    "results = []\n",
    "\n",
    "for num_partitions in partition_multiples:\n",
    "    # Start the timer\n",
    "    start_time = time.time()\n",
    "\n",
    "    # Load the numbers and process them\n",
    "    numbers_rdd = sc.textFile(numbers_file)\n",
    "    numbers_rdd = numbers_rdd.repartition(num_partitions)  # Set the number of partitions\n",
    "    numbers_rdd = numbers_rdd.map(lambda x: int(x))\n",
    "    prime_numbers_rdd = numbers_rdd.filter(is_prime)\n",
    "    prime_numbers_rdd.count()\n",
    "\n",
    "    # End the timer\n",
    "    end_time = time.time()\n",
    "    interval = end_time - start_time\n",
    "\n",
    "    # Get the number of executors\n",
    "    sc_java = sc._jsc.sc()\n",
    "    n_executors = len([executor.host() for executor in sc_java.statusTracker().getExecutorInfos()]) - 1\n",
    "\n",
    "    # Log the results\n",
    "    results.append((interval, n_workers, n_executors, num_partitions, spark.conf.get(\"spark.executor.cores\", \"default\"), spark.conf.get(\"spark.executor.memory\", \"default\")))\n",
    "\n",
    "    print(f\"Execution time with {num_partitions} partitions: {interval} seconds\")\n",
    "    print(f\"Executor count (excluding driver): {n_executors}\")\n",
    "\n",
    "# Convert results to a Spark DataFrame and save as a CSV file in DBFS\n",
    "results_df = spark.createDataFrame(results, schema=[\"Execution_Time_s\", \"Number_of_Workers\", \"Number_of_Executors\", \"Number_of_Partitions\", \"Executor_Cores\", \"Executor_Memory\"])\n",
    "results_df.coalesce(1).write.mode(\"overwrite\").option(\"header\", \"true\").csv(csv_file_path)\n",
    "\n",
    "print(f\"Statistics saved to {csv_file_path}\")\n"
   ]
  },
  {
   "cell_type": "code",
   "execution_count": 0,
   "metadata": {
    "application/vnd.databricks.v1+cell": {
     "cellMetadata": {
      "byteLimit": 2048000,
      "rowLimit": 10000
     },
     "inputWidgets": {},
     "nuid": "f723faee-b7fc-4c03-9f2f-e7bf397a0d32",
     "showTitle": false,
     "title": ""
    }
   },
   "outputs": [
    {
     "output_type": "execute_result",
     "data": {
      "text/html": [
       "<div>\n",
       "<style scoped>\n",
       "    .dataframe tbody tr th:only-of-type {\n",
       "        vertical-align: middle;\n",
       "    }\n",
       "\n",
       "    .dataframe tbody tr th {\n",
       "        vertical-align: top;\n",
       "    }\n",
       "\n",
       "    .dataframe thead th {\n",
       "        text-align: right;\n",
       "    }\n",
       "</style>\n",
       "<table border=\"1\" class=\"dataframe\">\n",
       "  <thead>\n",
       "    <tr style=\"text-align: right;\">\n",
       "      <th></th>\n",
       "      <th>Execution_Time_s</th>\n",
       "      <th>Number_of_Workers</th>\n",
       "      <th>Number_of_Executors</th>\n",
       "      <th>Number_of_Partitions</th>\n",
       "      <th>Executor_Cores</th>\n",
       "      <th>Executor_Memory</th>\n",
       "    </tr>\n",
       "  </thead>\n",
       "  <tbody>\n",
       "    <tr>\n",
       "      <th>3</th>\n",
       "      <td>109.342457</td>\n",
       "      <td>4</td>\n",
       "      <td>4</td>\n",
       "      <td>4</td>\n",
       "      <td>default</td>\n",
       "      <td>7284m</td>\n",
       "    </tr>\n",
       "    <tr>\n",
       "      <th>7</th>\n",
       "      <td>59.831912</td>\n",
       "      <td>4</td>\n",
       "      <td>4</td>\n",
       "      <td>8</td>\n",
       "      <td>default</td>\n",
       "      <td>7284m</td>\n",
       "    </tr>\n",
       "    <tr>\n",
       "      <th>11</th>\n",
       "      <td>44.646400</td>\n",
       "      <td>4</td>\n",
       "      <td>4</td>\n",
       "      <td>12</td>\n",
       "      <td>default</td>\n",
       "      <td>7284m</td>\n",
       "    </tr>\n",
       "    <tr>\n",
       "      <th>15</th>\n",
       "      <td>37.118043</td>\n",
       "      <td>4</td>\n",
       "      <td>4</td>\n",
       "      <td>16</td>\n",
       "      <td>default</td>\n",
       "      <td>7284m</td>\n",
       "    </tr>\n",
       "    <tr>\n",
       "      <th>19</th>\n",
       "      <td>48.202127</td>\n",
       "      <td>4</td>\n",
       "      <td>4</td>\n",
       "      <td>20</td>\n",
       "      <td>default</td>\n",
       "      <td>7284m</td>\n",
       "    </tr>\n",
       "    <tr>\n",
       "      <th>23</th>\n",
       "      <td>42.822844</td>\n",
       "      <td>4</td>\n",
       "      <td>4</td>\n",
       "      <td>24</td>\n",
       "      <td>default</td>\n",
       "      <td>7284m</td>\n",
       "    </tr>\n",
       "    <tr>\n",
       "      <th>27</th>\n",
       "      <td>38.920986</td>\n",
       "      <td>4</td>\n",
       "      <td>4</td>\n",
       "      <td>28</td>\n",
       "      <td>default</td>\n",
       "      <td>7284m</td>\n",
       "    </tr>\n",
       "    <tr>\n",
       "      <th>31</th>\n",
       "      <td>37.036112</td>\n",
       "      <td>4</td>\n",
       "      <td>4</td>\n",
       "      <td>32</td>\n",
       "      <td>default</td>\n",
       "      <td>7284m</td>\n",
       "    </tr>\n",
       "    <tr>\n",
       "      <th>35</th>\n",
       "      <td>42.191465</td>\n",
       "      <td>4</td>\n",
       "      <td>4</td>\n",
       "      <td>36</td>\n",
       "      <td>default</td>\n",
       "      <td>7284m</td>\n",
       "    </tr>\n",
       "    <tr>\n",
       "      <th>39</th>\n",
       "      <td>39.561953</td>\n",
       "      <td>4</td>\n",
       "      <td>4</td>\n",
       "      <td>40</td>\n",
       "      <td>default</td>\n",
       "      <td>7284m</td>\n",
       "    </tr>\n",
       "    <tr>\n",
       "      <th>43</th>\n",
       "      <td>37.730867</td>\n",
       "      <td>4</td>\n",
       "      <td>4</td>\n",
       "      <td>44</td>\n",
       "      <td>default</td>\n",
       "      <td>7284m</td>\n",
       "    </tr>\n",
       "    <tr>\n",
       "      <th>47</th>\n",
       "      <td>37.539265</td>\n",
       "      <td>4</td>\n",
       "      <td>4</td>\n",
       "      <td>48</td>\n",
       "      <td>default</td>\n",
       "      <td>7284m</td>\n",
       "    </tr>\n",
       "    <tr>\n",
       "      <th>51</th>\n",
       "      <td>39.832166</td>\n",
       "      <td>4</td>\n",
       "      <td>4</td>\n",
       "      <td>52</td>\n",
       "      <td>default</td>\n",
       "      <td>7284m</td>\n",
       "    </tr>\n",
       "    <tr>\n",
       "      <th>55</th>\n",
       "      <td>38.840292</td>\n",
       "      <td>4</td>\n",
       "      <td>4</td>\n",
       "      <td>56</td>\n",
       "      <td>default</td>\n",
       "      <td>7284m</td>\n",
       "    </tr>\n",
       "    <tr>\n",
       "      <th>59</th>\n",
       "      <td>37.761398</td>\n",
       "      <td>4</td>\n",
       "      <td>4</td>\n",
       "      <td>60</td>\n",
       "      <td>default</td>\n",
       "      <td>7284m</td>\n",
       "    </tr>\n",
       "    <tr>\n",
       "      <th>63</th>\n",
       "      <td>37.497028</td>\n",
       "      <td>4</td>\n",
       "      <td>4</td>\n",
       "      <td>64</td>\n",
       "      <td>default</td>\n",
       "      <td>7284m</td>\n",
       "    </tr>\n",
       "    <tr>\n",
       "      <th>67</th>\n",
       "      <td>39.552050</td>\n",
       "      <td>4</td>\n",
       "      <td>4</td>\n",
       "      <td>68</td>\n",
       "      <td>default</td>\n",
       "      <td>7284m</td>\n",
       "    </tr>\n",
       "    <tr>\n",
       "      <th>71</th>\n",
       "      <td>38.384307</td>\n",
       "      <td>4</td>\n",
       "      <td>4</td>\n",
       "      <td>72</td>\n",
       "      <td>default</td>\n",
       "      <td>7284m</td>\n",
       "    </tr>\n",
       "    <tr>\n",
       "      <th>75</th>\n",
       "      <td>37.103463</td>\n",
       "      <td>4</td>\n",
       "      <td>4</td>\n",
       "      <td>76</td>\n",
       "      <td>default</td>\n",
       "      <td>7284m</td>\n",
       "    </tr>\n",
       "    <tr>\n",
       "      <th>79</th>\n",
       "      <td>36.871583</td>\n",
       "      <td>4</td>\n",
       "      <td>4</td>\n",
       "      <td>80</td>\n",
       "      <td>default</td>\n",
       "      <td>7284m</td>\n",
       "    </tr>\n",
       "  </tbody>\n",
       "</table>\n",
       "</div>"
      ],
      "text/plain": [
       "    Execution_Time_s  Number_of_Workers  ...  Executor_Cores  Executor_Memory\n",
       "3         109.342457                  4  ...         default            7284m\n",
       "7          59.831912                  4  ...         default            7284m\n",
       "11         44.646400                  4  ...         default            7284m\n",
       "15         37.118043                  4  ...         default            7284m\n",
       "19         48.202127                  4  ...         default            7284m\n",
       "23         42.822844                  4  ...         default            7284m\n",
       "27         38.920986                  4  ...         default            7284m\n",
       "31         37.036112                  4  ...         default            7284m\n",
       "35         42.191465                  4  ...         default            7284m\n",
       "39         39.561953                  4  ...         default            7284m\n",
       "43         37.730867                  4  ...         default            7284m\n",
       "47         37.539265                  4  ...         default            7284m\n",
       "51         39.832166                  4  ...         default            7284m\n",
       "55         38.840292                  4  ...         default            7284m\n",
       "59         37.761398                  4  ...         default            7284m\n",
       "63         37.497028                  4  ...         default            7284m\n",
       "67         39.552050                  4  ...         default            7284m\n",
       "71         38.384307                  4  ...         default            7284m\n",
       "75         37.103463                  4  ...         default            7284m\n",
       "79         36.871583                  4  ...         default            7284m\n",
       "\n",
       "[20 rows x 6 columns]"
      ]
     },
     "execution_count": 32,
     "metadata": {},
     "output_type": "execute_result"
    }
   ],
   "source": [
    "results_df[results_df.Number_of_Partitions %4 == 0]"
   ]
  },
  {
   "cell_type": "code",
   "execution_count": 0,
   "metadata": {
    "application/vnd.databricks.v1+cell": {
     "cellMetadata": {
      "byteLimit": 2048000,
      "rowLimit": 10000
     },
     "inputWidgets": {},
     "nuid": "8ed52d39-7e0c-4f25-b341-8bc39ee9210a",
     "showTitle": false,
     "title": ""
    }
   },
   "outputs": [
    {
     "output_type": "stream",
     "name": "stderr",
     "output_type": "stream",
     "text": [
      "WARNING:matplotlib.legend:No artists with labels found to put in legend.  Note that artists whose label start with an underscore are ignored when legend() is called with no argument.\n"
     ]
    },
    {
     "output_type": "display_data",
     "data": {
      "image/png": "[encoded data removed]",
      "text/plain": [
       "<Figure size 2000x1000 with 1 Axes>"
      ]
     },
     "metadata": {},
     "output_type": "display_data"
    }
   ],
   "source": [
    "import matplotlib.pyplot as plt\n",
    "import numpy as np\n",
    "import pandas as pd\n",
    "# Convert results to a Pandas DataFrame\n",
    "results_df = pd.DataFrame(results, columns=[\"Execution_Time_s\", \"Number_of_Workers\", \"Number_of_Executors\", \"Number_of_Partitions\", \"Executor_Cores\", \"Executor_Memory\"])\n",
    "xticks = np.arange(0, 81,16)\n",
    "\n",
    "plt.figure(figsize=(20, 10))\n",
    "plt.plot(results_df[\"Number_of_Partitions\"], results_df['Execution_Time_s'], marker='o')\n",
    "plt.xlabel('Number of Partitions')\n",
    "plt.ylabel('Execution Time (s)')\n",
    "plt.grid(True)\n",
    "plt.xticks(xticks)\n",
    "plt.legend()\n",
    "plt.show()"
   ]
  },
  {
   "cell_type": "code",
   "execution_count": 0,
   "metadata": {
    "application/vnd.databricks.v1+cell": {
     "cellMetadata": {
      "byteLimit": 2048000,
      "rowLimit": 10000
     },
     "inputWidgets": {},
     "nuid": "7dd3ab95-000b-462b-83a4-d357ef232efd",
     "showTitle": false,
     "title": ""
    }
   },
   "outputs": [
    {
     "output_type": "stream",
     "name": "stdout",
     "output_type": "stream",
     "text": [
      "Execution time with 48 partition: 359.25651383399963 seconds\n"
     ]
    }
   ],
   "source": [
    "from pyspark.sql import SparkSession\n",
    "import time\n",
    "\n",
    "# Use the existing SparkSession\n",
    "spark = SparkSession.builder.appName(\"DatabricksPrimeTestOnePartition\").getOrCreate()\n",
    "sc = spark.sparkContext\n",
    "\n",
    "# Number of workers (adjust according to your Databricks cluster configuration)\n",
    "n_workers = 4\n",
    "\n",
    "from math import sqrt, ceil\n",
    "\n",
    "def is_prime(n):\n",
    "    if n <= 1:\n",
    "        return False\n",
    "    for i in range(2, ceil(sqrt(n)) + 1):\n",
    "        if n % i == 0:\n",
    "            return False\n",
    "    return True\n",
    "\n",
    "# Path to the numbers file in DBFS\n",
    "numbers_file = \"dbfs:/mnt/raw/prime/numbers_large.txt\"\n",
    "# Path to save the results as a CSV in DBFS\n",
    "# csv_file_path = \"dbfs:/mnt/exectime/prime/execution_prime_one_partition.csv\"\n",
    "\n",
    "# Run the experiment with 1 partition\n",
    "num_partitions = 48\n",
    "\n",
    "# Start the timer\n",
    "start_time = time.time()\n",
    "\n",
    "# Load the numbers and process them with 1 partition\n",
    "numbers_rdd = sc.textFile(numbers_file)\n",
    "numbers_rdd = numbers_rdd.repartition(num_partitions)  # Set the number of partitions to 1\n",
    "numbers_rdd = numbers_rdd.map(lambda x: int(x))\n",
    "prime_numbers_rdd = numbers_rdd.filter(is_prime)\n",
    "prime_numbers_rdd.count()\n",
    "\n",
    "# End the timer\n",
    "end_time = time.time()\n",
    "interval = end_time - start_time\n",
    "\n",
    "# Get the number of executors\n",
    "sc_java = sc._jsc.sc()\n",
    "n_executors = len([executor.host() for executor in sc_java.statusTracker().getExecutorInfos()]) - 1\n",
    "\n",
    "# Log the results\n",
    "results = [(interval, n_workers, n_executors, num_partitions, spark.conf.get(\"spark.executor.cores\", \"default\"), spark.conf.get(\"spark.executor.memory\", \"default\"))]\n",
    "\n",
    "# Convert results to a Spark DataFrame and save as a CSV file in DBFS\n",
    "# results_df = spark.createDataFrame(results, schema=[\"Execution_Time_s\", \"Number_of_Workers\", \"Number_of_Executors\", \"Number_of_Partitions\", \"Executor_Cores\", \"Executor_Memory\"])\n",
    "# results_df.coalesce(1).write.mode(\"overwrite\").option(\"header\", \"true\").csv(csv_file_path)\n",
    "\n",
    "print(f\"Execution time with {num_partitions} partition: {interval} seconds\")\n",
    "# print(f\"Statistics saved to {csv_file_path}\")\n"
   ]
  }
 ],
 "metadata": {
  "application/vnd.databricks.v1+notebook": {
   "dashboards": [],
   "environmentMetadata": {
    "base_environment": "",
    "client": "1"
   },
   "language": "python",
   "notebookMetadata": {
    "pythonIndentUnit": 4
   },
   "notebookName": "prime",
   "widgets": {}
  }
 },
 "nbformat": 4,
 "nbformat_minor": 0
}
